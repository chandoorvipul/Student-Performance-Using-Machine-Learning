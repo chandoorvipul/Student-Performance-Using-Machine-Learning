{
 "cells": [
  {
   "cell_type": "code",
   "execution_count": 1,
   "metadata": {},
   "outputs": [
    {
     "name": "stdout",
     "output_type": "stream",
     "text": [
      "     gender race/ethnicity      ...      reading score writing score\n",
      "0    female        group B      ...                 72            74\n",
      "1    female        group C      ...                 90            88\n",
      "2    female        group B      ...                 95            93\n",
      "3      male        group A      ...                 57            44\n",
      "4      male        group C      ...                 78            75\n",
      "5    female        group B      ...                 83            78\n",
      "6    female        group B      ...                 95            92\n",
      "7      male        group B      ...                 43            39\n",
      "8      male        group D      ...                 64            67\n",
      "9    female        group B      ...                 60            50\n",
      "10     male        group C      ...                 54            52\n",
      "11     male        group D      ...                 52            43\n",
      "12   female        group B      ...                 81            73\n",
      "13     male        group A      ...                 72            70\n",
      "14   female        group A      ...                 53            58\n",
      "15   female        group C      ...                 75            78\n",
      "16     male        group C      ...                 89            86\n",
      "17   female        group B      ...                 32            28\n",
      "18     male        group C      ...                 42            46\n",
      "19   female        group C      ...                 58            61\n",
      "20     male        group D      ...                 69            63\n",
      "21   female        group B      ...                 75            70\n",
      "22     male        group D      ...                 54            53\n",
      "23   female        group C      ...                 73            73\n",
      "24     male        group D      ...                 71            80\n",
      "25     male        group A      ...                 74            72\n",
      "26     male        group B      ...                 54            55\n",
      "27   female        group C      ...                 69            75\n",
      "28     male        group C      ...                 70            65\n",
      "29   female        group D      ...                 70            75\n",
      "..      ...            ...      ...                ...           ...\n",
      "970  female        group D      ...                100           100\n",
      "971    male        group C      ...                 72            69\n",
      "972  female        group A      ...                 50            60\n",
      "973  female        group D      ...                 65            61\n",
      "974  female        group A      ...                 63            67\n",
      "975  female        group C      ...                 82            77\n",
      "976    male        group B      ...                 62            60\n",
      "977    male        group C      ...                 65            58\n",
      "978    male        group D      ...                 41            48\n",
      "979  female        group C      ...                 95            94\n",
      "980  female        group B      ...                 24            23\n",
      "981    male        group D      ...                 78            78\n",
      "982    male        group B      ...                 85            86\n",
      "983  female        group A      ...                 87            91\n",
      "984  female        group C      ...                 75            82\n",
      "985    male        group A      ...                 51            54\n",
      "986  female        group C      ...                 59            51\n",
      "987    male        group E      ...                 75            76\n",
      "988  female        group A      ...                 45            45\n",
      "989  female        group D      ...                 86            83\n",
      "990    male        group E      ...                 81            75\n",
      "991  female        group B      ...                 82            78\n",
      "992  female        group D      ...                 76            76\n",
      "993  female        group D      ...                 72            74\n",
      "994    male        group A      ...                 63            62\n",
      "995  female        group E      ...                 99            95\n",
      "996    male        group C      ...                 55            55\n",
      "997  female        group C      ...                 71            65\n",
      "998  female        group D      ...                 78            77\n",
      "999  female        group D      ...                 86            86\n",
      "\n",
      "[1000 rows x 8 columns]\n"
     ]
    }
   ],
   "source": [
    "import pandas as pd\n",
    "dataset = pd.read_csv(\"StudentsPerformance.csv\")\n",
    "print(dataset)"
   ]
  },
  {
   "cell_type": "code",
   "execution_count": 2,
   "metadata": {},
   "outputs": [
    {
     "name": "stdout",
     "output_type": "stream",
     "text": [
      "<class 'pandas.core.frame.DataFrame'>\n",
      "RangeIndex: 1000 entries, 0 to 999\n",
      "Data columns (total 8 columns):\n",
      "gender                         1000 non-null object\n",
      "race/ethnicity                 1000 non-null object\n",
      "parental level of education    1000 non-null object\n",
      "lunch                          1000 non-null object\n",
      "test preparation course        1000 non-null object\n",
      "math score                     1000 non-null int64\n",
      "reading score                  1000 non-null int64\n",
      "writing score                  1000 non-null int64\n",
      "dtypes: int64(3), object(5)\n",
      "memory usage: 62.6+ KB\n"
     ]
    }
   ],
   "source": [
    "dataset.info()"
   ]
  },
  {
   "cell_type": "code",
   "execution_count": 3,
   "metadata": {},
   "outputs": [
    {
     "data": {
      "text/html": [
       "<div>\n",
       "<style scoped>\n",
       "    .dataframe tbody tr th:only-of-type {\n",
       "        vertical-align: middle;\n",
       "    }\n",
       "\n",
       "    .dataframe tbody tr th {\n",
       "        vertical-align: top;\n",
       "    }\n",
       "\n",
       "    .dataframe thead th {\n",
       "        text-align: right;\n",
       "    }\n",
       "</style>\n",
       "<table border=\"1\" class=\"dataframe\">\n",
       "  <thead>\n",
       "    <tr style=\"text-align: right;\">\n",
       "      <th></th>\n",
       "      <th>gender</th>\n",
       "      <th>race/ethnicity</th>\n",
       "      <th>parental level of education</th>\n",
       "      <th>lunch</th>\n",
       "      <th>test preparation course</th>\n",
       "      <th>math score</th>\n",
       "      <th>reading score</th>\n",
       "      <th>writing score</th>\n",
       "      <th>Average</th>\n",
       "    </tr>\n",
       "  </thead>\n",
       "  <tbody>\n",
       "    <tr>\n",
       "      <th>0</th>\n",
       "      <td>female</td>\n",
       "      <td>group B</td>\n",
       "      <td>bachelor's degree</td>\n",
       "      <td>standard</td>\n",
       "      <td>none</td>\n",
       "      <td>72</td>\n",
       "      <td>72</td>\n",
       "      <td>74</td>\n",
       "      <td>72.666667</td>\n",
       "    </tr>\n",
       "    <tr>\n",
       "      <th>1</th>\n",
       "      <td>female</td>\n",
       "      <td>group C</td>\n",
       "      <td>some college</td>\n",
       "      <td>standard</td>\n",
       "      <td>completed</td>\n",
       "      <td>69</td>\n",
       "      <td>90</td>\n",
       "      <td>88</td>\n",
       "      <td>82.333333</td>\n",
       "    </tr>\n",
       "    <tr>\n",
       "      <th>2</th>\n",
       "      <td>female</td>\n",
       "      <td>group B</td>\n",
       "      <td>master's degree</td>\n",
       "      <td>standard</td>\n",
       "      <td>none</td>\n",
       "      <td>90</td>\n",
       "      <td>95</td>\n",
       "      <td>93</td>\n",
       "      <td>92.666667</td>\n",
       "    </tr>\n",
       "    <tr>\n",
       "      <th>3</th>\n",
       "      <td>male</td>\n",
       "      <td>group A</td>\n",
       "      <td>associate's degree</td>\n",
       "      <td>free/reduced</td>\n",
       "      <td>none</td>\n",
       "      <td>47</td>\n",
       "      <td>57</td>\n",
       "      <td>44</td>\n",
       "      <td>49.333333</td>\n",
       "    </tr>\n",
       "    <tr>\n",
       "      <th>4</th>\n",
       "      <td>male</td>\n",
       "      <td>group C</td>\n",
       "      <td>some college</td>\n",
       "      <td>standard</td>\n",
       "      <td>none</td>\n",
       "      <td>76</td>\n",
       "      <td>78</td>\n",
       "      <td>75</td>\n",
       "      <td>76.333333</td>\n",
       "    </tr>\n",
       "  </tbody>\n",
       "</table>\n",
       "</div>"
      ],
      "text/plain": [
       "   gender race/ethnicity    ...     writing score    Average\n",
       "0  female        group B    ...                74  72.666667\n",
       "1  female        group C    ...                88  82.333333\n",
       "2  female        group B    ...                93  92.666667\n",
       "3    male        group A    ...                44  49.333333\n",
       "4    male        group C    ...                75  76.333333\n",
       "\n",
       "[5 rows x 9 columns]"
      ]
     },
     "execution_count": 3,
     "metadata": {},
     "output_type": "execute_result"
    }
   ],
   "source": [
    "dataset[\"Average\"] = (dataset[\"math score\"] + dataset[\"reading score\"] + dataset[\"writing score\"])/3\n",
    "dataset.head()"
   ]
  },
  {
   "cell_type": "code",
   "execution_count": 4,
   "metadata": {},
   "outputs": [
    {
     "name": "stdout",
     "output_type": "stream",
     "text": [
      "   gender race/ethnicity    ...     writing score    Average\n",
      "0  female        group B    ...                74  72.666667\n",
      "1  female        group C    ...                88  82.333333\n",
      "2  female        group B    ...                93  92.666667\n",
      "3    male        group A    ...                44  49.333333\n",
      "4    male        group C    ...                75  76.333333\n",
      "\n",
      "[5 rows x 8 columns]\n"
     ]
    }
   ],
   "source": [
    "dataset_copy = dataset.copy()\n",
    "dataset_copy.drop(labels ='parental level of education', axis='columns', inplace=True)\n",
    "print(dataset_copy.head())"
   ]
  },
  {
   "cell_type": "markdown",
   "metadata": {},
   "source": []
  },
  {
   "cell_type": "code",
   "execution_count": 5,
   "metadata": {},
   "outputs": [
    {
     "name": "stdout",
     "output_type": "stream",
     "text": [
      "   gender race/ethnicity    ...     writing score    Average\n",
      "0  female        group B    ...                74  72.666667\n",
      "1  female        group C    ...                88  82.333333\n",
      "2  female        group B    ...                93  92.666667\n",
      "3    male        group A    ...                44  49.333333\n",
      "4    male        group C    ...                75  76.333333\n",
      "\n",
      "[5 rows x 8 columns]\n"
     ]
    }
   ],
   "source": [
    "dataset_copy.dropna(axis='index', how='any', inplace=True)\n",
    "print(dataset_copy.head())"
   ]
  },
  {
   "cell_type": "code",
   "execution_count": 6,
   "metadata": {},
   "outputs": [
    {
     "name": "stdout",
     "output_type": "stream",
     "text": [
      "750\n",
      "250\n",
      "     gender race/ethnicity    ...     writing score    Average\n",
      "894  female        group E    ...                69  63.333333\n",
      "941  female        group D    ...                96  88.333333\n",
      "285    male        group B    ...                82  81.666667\n",
      "462  female        group E    ...                76  72.333333\n",
      "370    male        group E    ...                71  77.333333\n",
      "\n",
      "[5 rows x 8 columns]\n",
      "     gender race/ethnicity    ...     writing score    Average\n",
      "131    male        group C    ...                40  43.333333\n",
      "203  female        group B    ...                68  64.666667\n",
      "50     male        group E    ...                48  52.000000\n",
      "585  female        group C    ...                76  72.333333\n",
      "138  female        group C    ...                67  64.000000\n",
      "\n",
      "[5 rows x 8 columns]\n"
     ]
    }
   ],
   "source": [
    "from sklearn.model_selection import train_test_split\n",
    "\n",
    "train_set, test_set = train_test_split(dataset_copy, test_size=0.25, random_state = 123)\n",
    "print(len(train_set))\n",
    "print(len(test_set))\n",
    "print(train_set.head())\n",
    "print(test_set.head())"
   ]
  },
  {
   "cell_type": "markdown",
   "metadata": {},
   "source": [
    "## Pick an initial set of features for X and the target feature y.  Explain why you made this choice.\n",
    "\n",
    "I will try to do linear regression for X with Writing score, Math score, Reading score.\n",
    "\n",
    "And y will be the average of all the three marks\n"
   ]
  },
  {
   "cell_type": "code",
   "execution_count": 7,
   "metadata": {},
   "outputs": [
    {
     "name": "stdout",
     "output_type": "stream",
     "text": [
      "0.9289252096335803\n",
      "mean squared error is  14.089850381091356\n",
      "The root mean squared error is  3.7536449460612755\n"
     ]
    }
   ],
   "source": [
    "from sklearn.linear_model import LinearRegression\n",
    "reg = LinearRegression()\n",
    "X = train_set[[\"writing score\"]]\n",
    "Y = train_set[\"Average\"]\n",
    "reg.fit(X, Y)\n",
    "\n",
    "print(reg.score(X,Y))\n",
    "\n",
    "from sklearn.metrics import mean_squared_error\n",
    "y_pred = reg.predict(X)\n",
    "mse = mean_squared_error(Y, y_pred)\n",
    "print(\"mean squared error is \",  mse)\n",
    "\n",
    "from math import sqrt\n",
    "rmse = sqrt(mse)\n",
    "print(\"The root mean squared error is \", rmse)"
   ]
  },
  {
   "cell_type": "markdown",
   "metadata": {},
   "source": [
    "## Notes \n",
    "1. Above restults is for X = Writing Score and y is average \n",
    "2. Score of this metrics is 0.928 but it should be approx equal to 1, So lets try for remaining attributes.\n",
    "3. mean squared error is  14.0\n",
    "4. The root mean squared error is 3.7 "
   ]
  },
  {
   "cell_type": "code",
   "execution_count": 8,
   "metadata": {
    "scrolled": true
   },
   "outputs": [
    {
     "name": "stdout",
     "output_type": "stream",
     "text": [
      "0.9391768932122632\n",
      "mean squared error is  12.057558945080629\n",
      "The root mean squared error is  3.4723995946723396\n"
     ]
    }
   ],
   "source": [
    "from sklearn.linear_model import LinearRegression\n",
    "reg = LinearRegression()\n",
    "X = train_set[[\"reading score\"]]\n",
    "Y = train_set[\"Average\"]\n",
    "reg.fit(X, Y)\n",
    "\n",
    "print(reg.score(X,Y))\n",
    "\n",
    "from sklearn.metrics import mean_squared_error\n",
    "y_pred = reg.predict(X)\n",
    "mse = mean_squared_error(Y, y_pred)\n",
    "print(\"mean squared error is \",  mse)\n",
    "\n",
    "from math import sqrt\n",
    "rmse = sqrt(mse)\n",
    "print(\"The root mean squared error is \", rmse)"
   ]
  },
  {
   "cell_type": "markdown",
   "metadata": {},
   "source": [
    "## Notes \n",
    "1. Above restults is for X = reading Score and y is average \n",
    "2. Score of this metrics is 0.9391 but it should be approx equal to 1, So lets try for remaining attributes.\n",
    "3. mean squared error is  12.0\n",
    "4. The root mean squared error is  3.4"
   ]
  },
  {
   "cell_type": "code",
   "execution_count": 9,
   "metadata": {},
   "outputs": [
    {
     "name": "stdout",
     "output_type": "stream",
     "text": [
      "0.8369170659104608\n",
      "mean squared error is  32.32952400119388\n",
      "The root mean squared error is  5.685905732703795\n"
     ]
    }
   ],
   "source": [
    "\n",
    "from sklearn.linear_model import LinearRegression\n",
    "reg = LinearRegression()\n",
    "X = train_set[[\"math score\"]]\n",
    "Y = train_set[\"Average\"]\n",
    "reg.fit(X, Y)\n",
    "\n",
    "print(reg.score(X,Y))\n",
    "\n",
    "from sklearn.metrics import mean_squared_error\n",
    "y_pred = reg.predict(X)\n",
    "mse = mean_squared_error(Y, y_pred)\n",
    "print(\"mean squared error is \",  mse)\n",
    "\n",
    "from math import sqrt\n",
    "rmse = sqrt(mse)\n",
    "print(\"The root mean squared error is \", rmse)"
   ]
  },
  {
   "cell_type": "markdown",
   "metadata": {},
   "source": [
    "## Notes \n",
    "1. Above restults is for X = Writing Score and y is average \n",
    "2. Score of this metrics is 0.836 but it should be approx equal to 1.\n",
    "3. mean squared error is  32.3\n",
    "4. The root mean squared error is 5.6"
   ]
  },
  {
   "cell_type": "markdown",
   "metadata": {},
   "source": [
    "## Results \n",
    "\n",
    "X = reading Score and y = Average is the best metrics from all the above three. as it is almost equal to 1, We can say that is the best."
   ]
  },
  {
   "cell_type": "code",
   "execution_count": null,
   "metadata": {},
   "outputs": [],
   "source": []
  }
 ],
 "metadata": {
  "kernelspec": {
   "display_name": "Python 3 (Spyder)",
   "language": "python3",
   "name": "python3"
  },
  "language_info": {
   "codemirror_mode": {
    "name": "ipython",
    "version": 3
   },
   "file_extension": ".py",
   "mimetype": "text/x-python",
   "name": "python",
   "nbconvert_exporter": "python",
   "pygments_lexer": "ipython3",
   "version": "3.7.1"
  }
 },
 "nbformat": 4,
 "nbformat_minor": 2
}
