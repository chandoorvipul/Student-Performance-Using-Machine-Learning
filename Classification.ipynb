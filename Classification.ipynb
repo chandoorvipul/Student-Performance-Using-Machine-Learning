{
 "cells": [
  {
   "cell_type": "code",
   "execution_count": 7,
   "metadata": {},
   "outputs": [
    {
     "name": "stdout",
     "output_type": "stream",
     "text": [
      "     gender race/ethnicity      ...      reading score writing score\n",
      "0    female        group B      ...                 72            74\n",
      "1    female        group C      ...                 90            88\n",
      "2    female        group B      ...                 95            93\n",
      "3      male        group A      ...                 57            44\n",
      "4      male        group C      ...                 78            75\n",
      "5    female        group B      ...                 83            78\n",
      "6    female        group B      ...                 95            92\n",
      "7      male        group B      ...                 43            39\n",
      "8      male        group D      ...                 64            67\n",
      "9    female        group B      ...                 60            50\n",
      "10     male        group C      ...                 54            52\n",
      "11     male        group D      ...                 52            43\n",
      "12   female        group B      ...                 81            73\n",
      "13     male        group A      ...                 72            70\n",
      "14   female        group A      ...                 53            58\n",
      "15   female        group C      ...                 75            78\n",
      "16     male        group C      ...                 89            86\n",
      "17   female        group B      ...                 32            28\n",
      "18     male        group C      ...                 42            46\n",
      "19   female        group C      ...                 58            61\n",
      "20     male        group D      ...                 69            63\n",
      "21   female        group B      ...                 75            70\n",
      "22     male        group D      ...                 54            53\n",
      "23   female        group C      ...                 73            73\n",
      "24     male        group D      ...                 71            80\n",
      "25     male        group A      ...                 74            72\n",
      "26     male        group B      ...                 54            55\n",
      "27   female        group C      ...                 69            75\n",
      "28     male        group C      ...                 70            65\n",
      "29   female        group D      ...                 70            75\n",
      "..      ...            ...      ...                ...           ...\n",
      "970  female        group D      ...                100           100\n",
      "971    male        group C      ...                 72            69\n",
      "972  female        group A      ...                 50            60\n",
      "973  female        group D      ...                 65            61\n",
      "974  female        group A      ...                 63            67\n",
      "975  female        group C      ...                 82            77\n",
      "976    male        group B      ...                 62            60\n",
      "977    male        group C      ...                 65            58\n",
      "978    male        group D      ...                 41            48\n",
      "979  female        group C      ...                 95            94\n",
      "980  female        group B      ...                 24            23\n",
      "981    male        group D      ...                 78            78\n",
      "982    male        group B      ...                 85            86\n",
      "983  female        group A      ...                 87            91\n",
      "984  female        group C      ...                 75            82\n",
      "985    male        group A      ...                 51            54\n",
      "986  female        group C      ...                 59            51\n",
      "987    male        group E      ...                 75            76\n",
      "988  female        group A      ...                 45            45\n",
      "989  female        group D      ...                 86            83\n",
      "990    male        group E      ...                 81            75\n",
      "991  female        group B      ...                 82            78\n",
      "992  female        group D      ...                 76            76\n",
      "993  female        group D      ...                 72            74\n",
      "994    male        group A      ...                 63            62\n",
      "995  female        group E      ...                 99            95\n",
      "996    male        group C      ...                 55            55\n",
      "997  female        group C      ...                 71            65\n",
      "998  female        group D      ...                 78            77\n",
      "999  female        group D      ...                 86            86\n",
      "\n",
      "[1000 rows x 8 columns]\n"
     ]
    }
   ],
   "source": [
    "import pandas as pd\n",
    "dataset = pd.read_csv(\"StudentsPerformance.csv\")\n",
    "print(dataset)"
   ]
  },
  {
   "cell_type": "code",
   "execution_count": 8,
   "metadata": {},
   "outputs": [
    {
     "name": "stdout",
     "output_type": "stream",
     "text": [
      "<class 'pandas.core.frame.DataFrame'>\n",
      "RangeIndex: 1000 entries, 0 to 999\n",
      "Data columns (total 8 columns):\n",
      "gender                         1000 non-null object\n",
      "race/ethnicity                 1000 non-null object\n",
      "parental level of education    1000 non-null object\n",
      "lunch                          1000 non-null object\n",
      "test preparation course        1000 non-null object\n",
      "math score                     1000 non-null int64\n",
      "reading score                  1000 non-null int64\n",
      "writing score                  1000 non-null int64\n",
      "dtypes: int64(3), object(5)\n",
      "memory usage: 62.6+ KB\n"
     ]
    }
   ],
   "source": [
    "dataset.info()"
   ]
  },
  {
   "cell_type": "code",
   "execution_count": 9,
   "metadata": {},
   "outputs": [
    {
     "name": "stdout",
     "output_type": "stream",
     "text": [
      "   gender race/ethnicity      ...      reading score writing score\n",
      "0  female        group B      ...                 72            74\n",
      "1  female        group C      ...                 90            88\n",
      "2  female        group B      ...                 95            93\n",
      "3    male        group A      ...                 57            44\n",
      "4    male        group C      ...                 78            75\n",
      "\n",
      "[5 rows x 8 columns]\n"
     ]
    }
   ],
   "source": [
    "dataset_copy = dataset.copy()\n",
    "dataset_copy.dropna(axis='index', how='any', inplace=True)\n",
    "print(dataset_copy.head())\n"
   ]
  },
  {
   "cell_type": "code",
   "execution_count": null,
   "metadata": {},
   "outputs": [],
   "source": []
  },
  {
   "cell_type": "code",
   "execution_count": 10,
   "metadata": {},
   "outputs": [
    {
     "name": "stdout",
     "output_type": "stream",
     "text": [
      "750\n",
      "250\n",
      "     gender race/ethnicity      ...      reading score writing score\n",
      "894  female        group E      ...                 62            69\n",
      "941  female        group D      ...                 91            96\n",
      "285    male        group B      ...                 82            82\n",
      "462  female        group E      ...                 70            76\n",
      "370    male        group E      ...                 77            71\n",
      "\n",
      "[5 rows x 8 columns]\n",
      "     gender race/ethnicity      ...      reading score writing score\n",
      "131    male        group C      ...                 37            40\n",
      "203  female        group B      ...                 69            68\n",
      "50     male        group E      ...                 55            48\n",
      "585  female        group C      ...                 76            76\n",
      "138  female        group C      ...                 66            67\n",
      "\n",
      "[5 rows x 8 columns]\n"
     ]
    }
   ],
   "source": [
    "from sklearn.model_selection import train_test_split\n",
    "\n",
    "train_set, test_set = train_test_split(dataset_copy, test_size=0.25, random_state = 123)\n",
    "print(len(train_set))\n",
    "print(len(test_set))\n",
    "print(train_set.head())\n",
    "print(test_set.head())"
   ]
  },
  {
   "cell_type": "code",
   "execution_count": 16,
   "metadata": {},
   "outputs": [
    {
     "data": {
      "text/html": [
       "<div>\n",
       "<style scoped>\n",
       "    .dataframe tbody tr th:only-of-type {\n",
       "        vertical-align: middle;\n",
       "    }\n",
       "\n",
       "    .dataframe tbody tr th {\n",
       "        vertical-align: top;\n",
       "    }\n",
       "\n",
       "    .dataframe thead th {\n",
       "        text-align: right;\n",
       "    }\n",
       "</style>\n",
       "<table border=\"1\" class=\"dataframe\">\n",
       "  <thead>\n",
       "    <tr style=\"text-align: right;\">\n",
       "      <th></th>\n",
       "      <th>gender</th>\n",
       "      <th>race/ethnicity</th>\n",
       "      <th>parental level of education</th>\n",
       "      <th>lunch</th>\n",
       "      <th>test preparation course</th>\n",
       "      <th>math score</th>\n",
       "      <th>reading score</th>\n",
       "      <th>writing score</th>\n",
       "      <th>Average</th>\n",
       "      <th>grades</th>\n",
       "    </tr>\n",
       "  </thead>\n",
       "  <tbody>\n",
       "    <tr>\n",
       "      <th>0</th>\n",
       "      <td>female</td>\n",
       "      <td>group B</td>\n",
       "      <td>bachelor's degree</td>\n",
       "      <td>standard</td>\n",
       "      <td>none</td>\n",
       "      <td>72</td>\n",
       "      <td>72</td>\n",
       "      <td>74</td>\n",
       "      <td>72</td>\n",
       "      <td>B</td>\n",
       "    </tr>\n",
       "    <tr>\n",
       "      <th>1</th>\n",
       "      <td>female</td>\n",
       "      <td>group C</td>\n",
       "      <td>some college</td>\n",
       "      <td>standard</td>\n",
       "      <td>completed</td>\n",
       "      <td>69</td>\n",
       "      <td>90</td>\n",
       "      <td>88</td>\n",
       "      <td>82</td>\n",
       "      <td>A</td>\n",
       "    </tr>\n",
       "    <tr>\n",
       "      <th>2</th>\n",
       "      <td>female</td>\n",
       "      <td>group B</td>\n",
       "      <td>master's degree</td>\n",
       "      <td>standard</td>\n",
       "      <td>none</td>\n",
       "      <td>90</td>\n",
       "      <td>95</td>\n",
       "      <td>93</td>\n",
       "      <td>92</td>\n",
       "      <td>A</td>\n",
       "    </tr>\n",
       "    <tr>\n",
       "      <th>3</th>\n",
       "      <td>male</td>\n",
       "      <td>group A</td>\n",
       "      <td>associate's degree</td>\n",
       "      <td>free/reduced</td>\n",
       "      <td>none</td>\n",
       "      <td>47</td>\n",
       "      <td>57</td>\n",
       "      <td>44</td>\n",
       "      <td>49</td>\n",
       "      <td>F</td>\n",
       "    </tr>\n",
       "    <tr>\n",
       "      <th>4</th>\n",
       "      <td>male</td>\n",
       "      <td>group C</td>\n",
       "      <td>some college</td>\n",
       "      <td>standard</td>\n",
       "      <td>none</td>\n",
       "      <td>76</td>\n",
       "      <td>78</td>\n",
       "      <td>75</td>\n",
       "      <td>76</td>\n",
       "      <td>B</td>\n",
       "    </tr>\n",
       "  </tbody>\n",
       "</table>\n",
       "</div>"
      ],
      "text/plain": [
       "   gender race/ethnicity  ...   Average grades\n",
       "0  female        group B  ...        72      B\n",
       "1  female        group C  ...        82      A\n",
       "2  female        group B  ...        92      A\n",
       "3    male        group A  ...        49      F\n",
       "4    male        group C  ...        76      B\n",
       "\n",
       "[5 rows x 10 columns]"
      ]
     },
     "execution_count": 16,
     "metadata": {},
     "output_type": "execute_result"
    }
   ],
   "source": [
    "import matplotlib.pyplot as plt\n",
    "dataset[\"Average\"] = (dataset[\"math score\"] + dataset[\"reading score\"] + dataset[\"writing score\"])//3\n",
    "def grades(value):\n",
    "    if value > 80.0 and value <= 100.0: return \"A\"\n",
    "    if value > 70.0 and value <= 80.0: return \"B\"\n",
    "    if value > 60.0 and value <= 70.0: return \"C\"\n",
    "    else: return \"F\"\n",
    "dataset[\"grades\"] = dataset[\"Average\"].map(grades)\n",
    "\n",
    "dataset.head()"
   ]
  },
  {
   "cell_type": "code",
   "execution_count": 17,
   "metadata": {},
   "outputs": [
    {
     "name": "stdout",
     "output_type": "stream",
     "text": [
      "   gender race/ethnicity         lunch   ...   writing score  Average  grades\n",
      "0  female        group B      standard   ...              74       72       B\n",
      "1  female        group C      standard   ...              88       82       A\n",
      "2  female        group B      standard   ...              93       92       A\n",
      "3    male        group A  free/reduced   ...              44       49       F\n",
      "4    male        group C      standard   ...              75       76       B\n",
      "\n",
      "[5 rows x 9 columns]\n"
     ]
    }
   ],
   "source": [
    "dataset_copy = dataset.copy()\n",
    "dataset_copy.drop(labels ='parental level of education', axis='columns', inplace=True)\n",
    "print(dataset_copy.head())"
   ]
  },
  {
   "cell_type": "code",
   "execution_count": 19,
   "metadata": {},
   "outputs": [
    {
     "name": "stdout",
     "output_type": "stream",
     "text": [
      "   gender race/ethnicity         lunch   ...   writing score  Average  grades\n",
      "0  female        group B      standard   ...              74       72       B\n",
      "1  female        group C      standard   ...              88       82       A\n",
      "2  female        group B      standard   ...              93       92       A\n",
      "3    male        group A  free/reduced   ...              44       49       F\n",
      "4    male        group C      standard   ...              75       76       B\n",
      "\n",
      "[5 rows x 9 columns]\n"
     ]
    }
   ],
   "source": [
    "dataset_copy.dropna(axis='index', how='any', inplace=True)\n",
    "print(dataset_copy.head())"
   ]
  },
  {
   "cell_type": "code",
   "execution_count": 20,
   "metadata": {},
   "outputs": [
    {
     "name": "stdout",
     "output_type": "stream",
     "text": [
      "750\n",
      "250\n",
      "     gender race/ethnicity     lunch   ...   writing score  Average  grades\n",
      "894  female        group E  standard   ...              69       63       C\n",
      "941  female        group D  standard   ...              96       88       A\n",
      "285    male        group B  standard   ...              82       81       A\n",
      "462  female        group E  standard   ...              76       72       B\n",
      "370    male        group E  standard   ...              71       77       B\n",
      "\n",
      "[5 rows x 9 columns]\n",
      "     gender race/ethnicity         lunch   ...   writing score  Average  grades\n",
      "131    male        group C  free/reduced   ...              40       43       F\n",
      "203  female        group B      standard   ...              68       64       C\n",
      "50     male        group E      standard   ...              48       52       F\n",
      "585  female        group C      standard   ...              76       72       B\n",
      "138  female        group C      standard   ...              67       64       C\n",
      "\n",
      "[5 rows x 9 columns]\n"
     ]
    }
   ],
   "source": [
    "from sklearn.model_selection import train_test_split\n",
    "\n",
    "train_set, test_set = train_test_split(dataset_copy, test_size=0.25, random_state = 123)\n",
    "print(len(train_set))\n",
    "print(len(test_set))\n",
    "print(train_set.head())\n",
    "print(test_set.head())"
   ]
  },
  {
   "cell_type": "markdown",
   "metadata": {},
   "source": [
    "## Note: \n",
    "1. X is all about the marks of the students in 3 subjects \n",
    "2. Y is the average of all the 3 marks. "
   ]
  },
  {
   "cell_type": "code",
   "execution_count": 21,
   "metadata": {},
   "outputs": [
    {
     "name": "stdout",
     "output_type": "stream",
     "text": [
      "DecisionTreeClassifier(class_weight=None, criterion='gini', max_depth=None,\n",
      "            max_features=None, max_leaf_nodes=None,\n",
      "            min_impurity_decrease=0.0, min_impurity_split=None,\n",
      "            min_samples_leaf=1, min_samples_split=2,\n",
      "            min_weight_fraction_leaf=0.0, presort=False, random_state=None,\n",
      "            splitter='best')\n"
     ]
    }
   ],
   "source": [
    "from sklearn.tree import DecisionTreeClassifier\n",
    "X = train_set[[\"math score\",\"reading score\",\"writing score\"]]\n",
    "Y = train_set[\"Average\"]\n",
    "tree_classifier = DecisionTreeClassifier()\n",
    "tree_classifier.fit(X,Y)\n",
    "print(tree_classifier.fit(X,Y))"
   ]
  },
  {
   "cell_type": "code",
   "execution_count": 22,
   "metadata": {},
   "outputs": [
    {
     "name": "stderr",
     "output_type": "stream",
     "text": [
      "C:\\ProgramData\\Anaconda3\\lib\\site-packages\\scipy\\stats\\stats.py:1713: FutureWarning: Using a non-tuple sequence for multidimensional indexing is deprecated; use `arr[tuple(seq)]` instead of `arr[seq]`. In the future this will be interpreted as an array index, `arr[np.array(seq)]`, which will result either in an error or a different result.\n",
      "  return np.add.reduce(sorted[indexer] * weights, axis=axis) / sumval\n"
     ]
    },
    {
     "data": {
      "image/png": "[encoded data removed]",
      "text/plain": [
       "<Figure size 1008x288 with 3 Axes>"
      ]
     },
     "metadata": {},
     "output_type": "display_data"
    }
   ],
   "source": [
    "import pandas as pd               \n",
    "import numpy as np                \n",
    "import matplotlib.pyplot as plt   \n",
    "import seaborn as sns             \n",
    "\n",
    "%matplotlib inline\n",
    "plt.figure(figsize=(14,4))\n",
    "\n",
    "plt.subplot(1,3,1)\n",
    "sns.barplot(x = 'test preparation course', y = 'math score',hue = 'gender', data = dataset)\n",
    "\n",
    "plt.subplot(1,3,2)\n",
    "sns.barplot(x = 'test preparation course', y = 'reading score', hue = 'gender', data = dataset)\n",
    "\n",
    "plt.subplot(1,3,3)\n",
    "sns.barplot(x = 'test preparation course', y = 'writing score',hue = 'gender', data = dataset)\n",
    "\n",
    "\n",
    "plt.tight_layout()"
   ]
  },
  {
   "cell_type": "code",
   "execution_count": 23,
   "metadata": {},
   "outputs": [
    {
     "name": "stderr",
     "output_type": "stream",
     "text": [
      "C:\\ProgramData\\Anaconda3\\lib\\site-packages\\pandas\\core\\indexing.py:189: SettingWithCopyWarning: \n",
      "A value is trying to be set on a copy of a slice from a DataFrame\n",
      "\n",
      "See the caveats in the documentation: http://pandas.pydata.org/pandas-docs/stable/indexing.html#indexing-view-versus-copy\n",
      "  self._setitem_with_indexer(indexer, value)\n"
     ]
    }
   ],
   "source": [
    "dataset['race/ethnicity'].loc[dataset['race/ethnicity'] == 'group A'] = 1\n",
    "dataset['race/ethnicity'].loc[dataset['race/ethnicity'] == 'group B'] = 2\n",
    "dataset['race/ethnicity'].loc[dataset['race/ethnicity'] == 'group C'] = 3\n",
    "dataset['race/ethnicity'].loc[dataset['race/ethnicity'] == 'group D'] = 4\n",
    "dataset['race/ethnicity'].loc[dataset['race/ethnicity'] == 'group E'] = 5"
   ]
  },
  {
   "cell_type": "code",
   "execution_count": 24,
   "metadata": {},
   "outputs": [
    {
     "data": {
      "image/png": "[encoded data removed]",
      "text/plain": [
       "<Figure size 864x432 with 3 Axes>"
      ]
     },
     "metadata": {},
     "output_type": "display_data"
    }
   ],
   "source": [
    "fig, axs = plt.subplots(ncols=3,figsize=(12,6))\n",
    "plt.subplots_adjust(left=None, bottom=None, right=None, top=None, wspace=1.5, hspace=None);\n",
    "sns.boxplot(x=\"race/ethnicity\", y=\"math score\", data=dataset, ax=axs[0],showmeans=True);\n",
    "sns.boxplot(x=\"race/ethnicity\", y=\"reading score\", data=dataset, ax=axs[1],showmeans=True);\n",
    "sns.boxplot(x=\"race/ethnicity\", y=\"writing score\", data=dataset, ax=axs[2],showmeans=True);"
   ]
  },
  {
   "cell_type": "code",
   "execution_count": 40,
   "metadata": {},
   "outputs": [
    {
     "name": "stderr",
     "output_type": "stream",
     "text": [
      "C:\\ProgramData\\Anaconda3\\lib\\site-packages\\pandas\\core\\indexing.py:189: SettingWithCopyWarning: \n",
      "A value is trying to be set on a copy of a slice from a DataFrame\n",
      "\n",
      "See the caveats in the documentation: http://pandas.pydata.org/pandas-docs/stable/indexing.html#indexing-view-versus-copy\n",
      "  self._setitem_with_indexer(indexer, value)\n"
     ]
    }
   ],
   "source": [
    "dataset['parental level of education'].loc[dataset['parental level of education'] == 'some high school'] = 1\n",
    "dataset['parental level of education'].loc[dataset['parental level of education'] == 'high school'] = 2\n",
    "dataset['parental level of education'].loc[dataset['parental level of education'] == 'associate\\'s degree'] = 3\n",
    "dataset['parental level of education'].loc[dataset['parental level of education'] == 'some college'] = 4\n",
    "dataset['parental level of education'].loc[dataset['parental level of education'] == 'bachelor\\'s degree'] = 5\n",
    "dataset['parental level of education'].loc[dataset['parental level of education'] == 'master\\'s degree'] = 6"
   ]
  },
  {
   "cell_type": "code",
   "execution_count": 41,
   "metadata": {},
   "outputs": [
    {
     "data": {
      "image/png": "[encoded data removed]",
      "text/plain": [
       "<Figure size 864x432 with 3 Axes>"
      ]
     },
     "metadata": {},
     "output_type": "display_data"
    }
   ],
   "source": [
    "fig, axs = plt.subplots(ncols=3,figsize=(12,6))\n",
    "plt.subplots_adjust(left=None, bottom=None, right=None, top=None, wspace=1.5, hspace=None);\n",
    "sns.boxplot(x=\"parental level of education\", y=\"math score\", data=dataset, ax=axs[0],showmeans=True);\n",
    "sns.boxplot(x=\"parental level of education\", y=\"reading score\", data=dataset, ax=axs[1],showmeans=True);\n",
    "sns.boxplot(x=\"parental level of education\", y=\"writing score\", data=dataset, ax=axs[2],showmeans=True);"
   ]
  },
  {
   "cell_type": "code",
   "execution_count": 42,
   "metadata": {},
   "outputs": [
    {
     "name": "stdout",
     "output_type": "stream",
     "text": [
      "[[0 1 0 ... 0 0 0]\n",
      " [0 0 0 ... 0 0 0]\n",
      " [0 0 1 ... 0 0 0]\n",
      " ...\n",
      " [0 0 0 ... 3 0 0]\n",
      " [0 0 0 ... 0 1 0]\n",
      " [0 0 0 ... 0 0 1]]\n"
     ]
    }
   ],
   "source": [
    "from sklearn.metrics import confusion_matrix\n",
    "y_predicted = tree_classifier.predict(X)\n",
    "matrix = confusion_matrix(Y, y_predicted)\n",
    "print(matrix)"
   ]
  },
  {
   "cell_type": "code",
   "execution_count": 31,
   "metadata": {},
   "outputs": [
    {
     "name": "stdout",
     "output_type": "stream",
     "text": [
      "Accuracy is  1.0\n",
      "Precision is  1.0\n",
      "Sensitivity is  1.0\n",
      "F1 is  1.0\n"
     ]
    }
   ],
   "source": [
    "from sklearn.metrics import accuracy_score, precision_score, recall_score, f1_score\n",
    "print (\"Accuracy is \", accuracy_score(Y, y_predicted))\n",
    "\n",
    "# We have to specify how to combine for the multiclassifications\n",
    "print (\"Precision is \", precision_score(Y, y_predicted, average=\"weighted\"))\n",
    "print (\"Sensitivity is \", recall_score(Y, y_predicted, average=\"weighted\"))\n",
    "print (\"F1 is \", f1_score(Y, y_predicted, average=\"weighted\"))"
   ]
  },
  {
   "cell_type": "markdown",
   "metadata": {},
   "source": [
    "## Comment on the results.\n",
    "\n",
    "1. The above matrics shows that it is the perfect confusion matrix which has only diogonal values and remaining are zeros\n",
    "2. Metrics are all equal 1 that means which are more accurate and perfect values. "
   ]
  },
  {
   "cell_type": "code",
   "execution_count": 32,
   "metadata": {},
   "outputs": [
    {
     "name": "stderr",
     "output_type": "stream",
     "text": [
      "C:\\ProgramData\\Anaconda3\\lib\\site-packages\\sklearn\\svm\\base.py:196: FutureWarning: The default value of gamma will change from 'auto' to 'scale' in version 0.22 to account better for unscaled features. Set gamma explicitly to 'auto' or 'scale' to avoid this warning.\n",
      "  \"avoid this warning.\", FutureWarning)\n"
     ]
    },
    {
     "data": {
      "image/png": "[encoded data removed]",
      "text/plain": [
       "<Figure size 432x288 with 1 Axes>"
      ]
     },
     "metadata": {},
     "output_type": "display_data"
    }
   ],
   "source": [
    "from sklearn.svm import SVC\n",
    "X = train_set[[\"math score\",\"reading score\",\"writing score\"]]\n",
    "Y = train_set[\"Average\"]\n",
    "svm_classifier = SVC(kernel=\"rbf\")\n",
    "svm_classifier.fit(X,Y)\n",
    "# plt.plot(X,Y)\n",
    "plt.plot(kind = \"bar\")\n",
    "plt.plot(X,Y)\n",
    "plt.show()"
   ]
  },
  {
   "cell_type": "code",
   "execution_count": 33,
   "metadata": {},
   "outputs": [
    {
     "name": "stdout",
     "output_type": "stream",
     "text": [
      "[[1 0 0 ... 0 0 0]\n",
      " [0 1 0 ... 0 0 0]\n",
      " [0 0 2 ... 0 0 0]\n",
      " ...\n",
      " [0 0 0 ... 2 0 0]\n",
      " [0 0 0 ... 0 2 0]\n",
      " [0 0 0 ... 0 0 2]]\n"
     ]
    }
   ],
   "source": [
    "from sklearn.metrics import confusion_matrix\n",
    "y_predicted = tree_classifier.predict(X)\n",
    "matrix = confusion_matrix(Y, y_predicted)\n",
    "print(matrix)"
   ]
  },
  {
   "cell_type": "code",
   "execution_count": 34,
   "metadata": {},
   "outputs": [
    {
     "name": "stdout",
     "output_type": "stream",
     "text": [
      "Accuracy is  1.0\n",
      "Precision is  1.0\n",
      "Sensitivity is  1.0\n",
      "F1 is  1.0\n"
     ]
    }
   ],
   "source": [
    "from sklearn.metrics import accuracy_score, precision_score, recall_score, f1_score\n",
    "print (\"Accuracy is \", accuracy_score(Y, y_predicted))\n",
    "\n",
    "# We have to specify how to combine for the multiclassifications\n",
    "print (\"Precision is \", precision_score(Y, y_predicted, average=\"weighted\"))\n",
    "print (\"Sensitivity is \", recall_score(Y, y_predicted, average=\"weighted\"))\n",
    "print (\"F1 is \", f1_score(Y, y_predicted, average=\"weighted\"))"
   ]
  },
  {
   "cell_type": "code",
   "execution_count": 35,
   "metadata": {},
   "outputs": [
    {
     "name": "stderr",
     "output_type": "stream",
     "text": [
      "C:\\ProgramData\\Anaconda3\\lib\\site-packages\\sklearn\\svm\\base.py:196: FutureWarning: The default value of gamma will change from 'auto' to 'scale' in version 0.22 to account better for unscaled features. Set gamma explicitly to 'auto' or 'scale' to avoid this warning.\n",
      "  \"avoid this warning.\", FutureWarning)\n"
     ]
    },
    {
     "data": {
      "text/plain": [
       "SVC(C=1.0, cache_size=200, class_weight=None, coef0=0.0,\n",
       "  decision_function_shape='ovr', degree=3, gamma='auto_deprecated',\n",
       "  kernel='rbf', max_iter=-1, probability=False, random_state=None,\n",
       "  shrinking=True, tol=0.001, verbose=False)"
      ]
     },
     "execution_count": 35,
     "metadata": {},
     "output_type": "execute_result"
    }
   ],
   "source": [
    "from sklearn.svm import SVC\n",
    "X = test_set[[\"math score\",\"reading score\",\"writing score\"]]\n",
    "Y = test_set[\"Average\"]\n",
    "svm_classifier = SVC(kernel=\"rbf\")\n",
    "svm_classifier.fit(X,Y)"
   ]
  },
  {
   "cell_type": "code",
   "execution_count": 36,
   "metadata": {},
   "outputs": [
    {
     "name": "stdout",
     "output_type": "stream",
     "text": [
      "[[0 1 0 ... 0 0 0]\n",
      " [0 0 0 ... 0 0 0]\n",
      " [0 0 1 ... 0 0 0]\n",
      " ...\n",
      " [0 0 0 ... 3 0 0]\n",
      " [0 0 0 ... 0 1 0]\n",
      " [0 0 0 ... 0 0 1]]\n"
     ]
    }
   ],
   "source": [
    "from sklearn.metrics import confusion_matrix\n",
    "y_predicted = tree_classifier.predict(X)\n",
    "matrix = confusion_matrix(Y, y_predicted)\n",
    "print(matrix)"
   ]
  },
  {
   "cell_type": "code",
   "execution_count": 37,
   "metadata": {},
   "outputs": [
    {
     "name": "stdout",
     "output_type": "stream",
     "text": [
      "Accuracy is  0.364\n",
      "Precision is  0.3831852813852814\n",
      "Sensitivity is  0.364\n",
      "F1 is  0.3476579649841192\n"
     ]
    },
    {
     "name": "stderr",
     "output_type": "stream",
     "text": [
      "C:\\ProgramData\\Anaconda3\\lib\\site-packages\\sklearn\\metrics\\classification.py:1143: UndefinedMetricWarning: Precision is ill-defined and being set to 0.0 in labels with no predicted samples.\n",
      "  'precision', 'predicted', average, warn_for)\n",
      "C:\\ProgramData\\Anaconda3\\lib\\site-packages\\sklearn\\metrics\\classification.py:1145: UndefinedMetricWarning: Recall is ill-defined and being set to 0.0 in labels with no true samples.\n",
      "  'recall', 'true', average, warn_for)\n",
      "C:\\ProgramData\\Anaconda3\\lib\\site-packages\\sklearn\\metrics\\classification.py:1143: UndefinedMetricWarning: F-score is ill-defined and being set to 0.0 in labels with no predicted samples.\n",
      "  'precision', 'predicted', average, warn_for)\n",
      "C:\\ProgramData\\Anaconda3\\lib\\site-packages\\sklearn\\metrics\\classification.py:1145: UndefinedMetricWarning: F-score is ill-defined and being set to 0.0 in labels with no true samples.\n",
      "  'recall', 'true', average, warn_for)\n"
     ]
    }
   ],
   "source": [
    "from sklearn.metrics import accuracy_score, precision_score, recall_score, f1_score\n",
    "print (\"Accuracy is \", accuracy_score(Y, y_predicted))\n",
    "\n",
    "# We have to specify how to combine for the multiclassifications\n",
    "print (\"Precision is \", precision_score(Y, y_predicted, average=\"weighted\"))\n",
    "print (\"Sensitivity is \", recall_score(Y, y_predicted, average=\"weighted\"))\n",
    "print (\"F1 is \", f1_score(Y, y_predicted, average=\"weighted\"))"
   ]
  },
  {
   "cell_type": "markdown",
   "metadata": {},
   "source": [
    "## Note: \n",
    "1. There is a lots of change in test set results and train set results. \n",
    "2. In train results all the values are equal to 1 which means all most accurate values. \n",
    "3. In test results all the values are not much near to 1 which means they are not much accurate. \n"
   ]
  },
  {
   "cell_type": "code",
   "execution_count": null,
   "metadata": {},
   "outputs": [],
   "source": []
  }
 ],
 "metadata": {
  "kernelspec": {
   "display_name": "Python 3 (Spyder)",
   "language": "python3",
   "name": "python3"
  },
  "language_info": {
   "codemirror_mode": {
    "name": "ipython",
    "version": 3
   },
   "file_extension": ".py",
   "mimetype": "text/x-python",
   "name": "python",
   "nbconvert_exporter": "python",
   "pygments_lexer": "ipython3",
   "version": "3.7.1"
  }
 },
 "nbformat": 4,
 "nbformat_minor": 2
}
